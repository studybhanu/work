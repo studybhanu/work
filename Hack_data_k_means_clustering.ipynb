{
  "cells": [
    {
      "cell_type": "markdown",
      "metadata": {
        "id": "-wr-_VagYcfu"
      },
      "source": [
        "# Clustering Consulting Project\n",
        "\n",
        "A large technology firm needs your help, they've been hacked! Luckily their forensic engineers have grabbed valuable data about the hacks, including information like session time,locations, wpm typing speed, etc. The forensic engineer relates to you what she has been able to figure out so far, she has been able to grab meta data of each session that the hackers used to connect to their servers. These are the features of the data:\n",
        "\n",
        "* 'Session_Connection_Time': How long the session lasted in minutes\n",
        "* 'Bytes Transferred': Number of MB transferred during session\n",
        "* 'Kali_Trace_Used': Indicates if the hacker was using Kali Linux\n",
        "* 'Servers_Corrupted': Number of server corrupted during the attack\n",
        "* 'Pages_Corrupted': Number of pages illegally accessed\n",
        "* 'Location': Location attack came from (Probably useless because the hackers used VPNs)\n",
        "* 'WPM_Typing_Speed': Their estimated typing speed based on session logs.\n",
        "\n",
        "\n",
        "The technology firm has 3 potential hackers that perpetrated the attack. Their certain of the first two hackers but they aren't very sure if the third hacker was involved or not. They have requested your help! Can you help figure out whether or not the third suspect had anything to do with the attacks, or was it just two hackers? It's probably not possible to know for sure, but maybe what you've just learned about Clustering can help!\n",
        "\n",
        "**One last key fact, the forensic engineer knows that the hackers trade off attacks. Meaning they should each have roughly the same amount of attacks. For example if there were 100 total attacks, then in a 2 hacker situation each should have about 50 hacks, in a three hacker situation each would have about 33 hacks. The engineer believes this is the key element to solving this, but doesn't know how to distinguish this unlabeled data into groups of hackers.**"
      ]
    },
    {
      "cell_type": "code",
      "execution_count": null,
      "metadata": {
        "id": "Fv95hzYa3bVh"
      },
      "outputs": [],
      "source": [
        "!apt-get install openjdk-8-jdk-headless -qq > /dev/null\n",
        "!wget -q https://archive.apache.org/dist/spark/spark-3.0.1/spark-3.0.1-bin-hadoop2.7.tgz"
      ]
    },
    {
      "cell_type": "code",
      "execution_count": null,
      "metadata": {
        "id": "Jv_i7-5k3hzr"
      },
      "outputs": [],
      "source": [
        "!tar xf spark-3.0.1-bin-hadoop2.7.tgz\n",
        "!pip install -q findspark"
      ]
    },
    {
      "cell_type": "code",
      "execution_count": null,
      "metadata": {
        "id": "y57B2QSh3noZ"
      },
      "outputs": [],
      "source": [
        "import os\n",
        "os.environ[\"JAVA_HOME\"] = \"/usr/lib/jvm/java-8-openjdk-amd64\"\n",
        "os.environ[\"SPARK_HOME\"] = \"/content//spark-3.0.1-bin-hadoop2.7\""
      ]
    },
    {
      "cell_type": "code",
      "execution_count": null,
      "metadata": {
        "id": "rKojcAgL3ntZ"
      },
      "outputs": [],
      "source": [
        "import findspark\n",
        "findspark.init()"
      ]
    },
    {
      "cell_type": "code",
      "execution_count": null,
      "metadata": {
        "id": "uEDmF8Dn3nwB"
      },
      "outputs": [],
      "source": [
        "from pyspark.sql.types import *\n",
        "from pyspark.sql.functions import *"
      ]
    },
    {
      "cell_type": "code",
      "execution_count": null,
      "metadata": {
        "id": "ZxiY91xH3nyZ"
      },
      "outputs": [],
      "source": [
        "import numpy as np\n",
        "import pandas as pd\n",
        "from io import StringIO"
      ]
    },
    {
      "cell_type": "code",
      "execution_count": null,
      "metadata": {
        "colab": {
          "base_uri": "https://localhost:8080/"
        },
        "id": "j2SDhvwC3n0c",
        "outputId": "51e2f012-3552-45ed-a587-3f5921138667"
      },
      "outputs": [
        {
          "output_type": "stream",
          "name": "stdout",
          "text": [
            "Mounted at /content/drive\n"
          ]
        }
      ],
      "source": [
        "from google.colab import drive\n",
        "drive.mount('/content/drive')"
      ]
    },
    {
      "cell_type": "code",
      "execution_count": null,
      "metadata": {
        "id": "9FmCoYpD3n2y"
      },
      "outputs": [],
      "source": [
        "import pyspark\n",
        "from pyspark.sql import SparkSession"
      ]
    },
    {
      "cell_type": "code",
      "execution_count": null,
      "metadata": {
        "id": "PlwFLzxf3n47"
      },
      "outputs": [],
      "source": [
        "spark = SparkSession.builder.appName('SparkML_Hacking').getOrCreate()"
      ]
    },
    {
      "cell_type": "code",
      "execution_count": null,
      "metadata": {
        "colab": {
          "base_uri": "https://localhost:8080/",
          "height": 219
        },
        "id": "rdsLU1zD3n6v",
        "outputId": "aa25eeee-0ed1-4d47-cc80-3f7f16b03444"
      },
      "outputs": [
        {
          "output_type": "execute_result",
          "data": {
            "text/plain": [
              "<pyspark.sql.session.SparkSession at 0x7ff21ca6f450>"
            ],
            "text/html": [
              "\n",
              "            <div>\n",
              "                <p><b>SparkSession - in-memory</b></p>\n",
              "                \n",
              "        <div>\n",
              "            <p><b>SparkContext</b></p>\n",
              "\n",
              "            <p><a href=\"http://4b4ca87c7962:4040\">Spark UI</a></p>\n",
              "\n",
              "            <dl>\n",
              "              <dt>Version</dt>\n",
              "                <dd><code>v3.0.1</code></dd>\n",
              "              <dt>Master</dt>\n",
              "                <dd><code>local[*]</code></dd>\n",
              "              <dt>AppName</dt>\n",
              "                <dd><code>SparkML_Hacking</code></dd>\n",
              "            </dl>\n",
              "        </div>\n",
              "        \n",
              "            </div>\n",
              "        "
            ]
          },
          "metadata": {},
          "execution_count": 10
        }
      ],
      "source": [
        "spark"
      ]
    },
    {
      "cell_type": "code",
      "execution_count": null,
      "metadata": {
        "id": "N_JQJWHy3n9I"
      },
      "outputs": [],
      "source": [
        "hackDataSchema = StructType([\n",
        "\n",
        "                 StructField(\"Session_Connection_Time\",DoubleType(),True),\n",
        "                 StructField(\"Bytes_Transferred\",DoubleType(),True),\n",
        "                 StructField(\"Kali_Trace_Used\",StringType(),True),\n",
        "                 StructField(\"Servers_Corrupted\",DoubleType(),True),\n",
        "                 StructField(\"Pages_Corrupted\",DoubleType(),True),\n",
        "                 StructField(\"Location\",StringType(),True),\n",
        "                 StructField(\"WPM_Typing_Speed\",DoubleType(),True)\n",
        "                ])"
      ]
    },
    {
      "cell_type": "code",
      "execution_count": null,
      "metadata": {
        "id": "urNK9QQ_3n_s"
      },
      "outputs": [],
      "source": [
        "hackDF = spark.read.format('csv')\\\n",
        ".option('header','true')\\\n",
        ".option('inferSchema','true')\\\n",
        ".load(\"/content/drive/MyDrive/hack_data.csv\", schema= hackDataSchema)"
      ]
    },
    {
      "cell_type": "code",
      "execution_count": null,
      "metadata": {
        "colab": {
          "base_uri": "https://localhost:8080/"
        },
        "id": "xS9aT-kO3oB9",
        "outputId": "ec59535b-44a0-4bfb-d92c-761d069d063b"
      },
      "outputs": [
        {
          "output_type": "stream",
          "name": "stdout",
          "text": [
            "+-----------------------+-----------------+---------------+-----------------+---------------+--------------------+----------------+\n",
            "|Session_Connection_Time|Bytes_Transferred|Kali_Trace_Used|Servers_Corrupted|Pages_Corrupted|            Location|WPM_Typing_Speed|\n",
            "+-----------------------+-----------------+---------------+-----------------+---------------+--------------------+----------------+\n",
            "|                    8.0|           391.09|              1|             2.96|            7.0|            Slovenia|           72.37|\n",
            "|                   20.0|           720.99|              0|             3.04|            9.0|British Virgin Is...|           69.08|\n",
            "|                   31.0|           356.32|              1|             3.71|            8.0|             Tokelau|           70.58|\n",
            "|                    2.0|           228.08|              1|             2.48|            8.0|             Bolivia|            70.8|\n",
            "|                   20.0|            408.5|              0|             3.57|            8.0|                Iraq|           71.28|\n",
            "+-----------------------+-----------------+---------------+-----------------+---------------+--------------------+----------------+\n",
            "only showing top 5 rows\n",
            "\n"
          ]
        }
      ],
      "source": [
        "hackDF.show(5)"
      ]
    },
    {
      "cell_type": "code",
      "execution_count": null,
      "metadata": {
        "colab": {
          "base_uri": "https://localhost:8080/"
        },
        "id": "jR34PcDM3oEe",
        "outputId": "e5687c34-bc32-4eb9-c5a3-50bd8de25f3b"
      },
      "outputs": [
        {
          "output_type": "stream",
          "name": "stdout",
          "text": [
            "root\n",
            " |-- Session_Connection_Time: double (nullable = true)\n",
            " |-- Bytes_Transferred: double (nullable = true)\n",
            " |-- Kali_Trace_Used: string (nullable = true)\n",
            " |-- Servers_Corrupted: double (nullable = true)\n",
            " |-- Pages_Corrupted: double (nullable = true)\n",
            " |-- Location: string (nullable = true)\n",
            " |-- WPM_Typing_Speed: double (nullable = true)\n",
            "\n"
          ]
        }
      ],
      "source": [
        "hackDF.printSchema()"
      ]
    },
    {
      "cell_type": "code",
      "execution_count": null,
      "metadata": {
        "colab": {
          "base_uri": "https://localhost:8080/"
        },
        "id": "BCS5KWq_3oIH",
        "outputId": "0899df2e-9bf1-41d5-d12a-9fe8d3daab0a"
      },
      "outputs": [
        {
          "output_type": "execute_result",
          "data": {
            "text/plain": [
              "DataFrame[Session_Connection_Time: double, Bytes_Transferred: double, Kali_Trace_Used: string, Servers_Corrupted: double, Pages_Corrupted: double, Location: string, WPM_Typing_Speed: double]"
            ]
          },
          "metadata": {},
          "execution_count": 55
        }
      ],
      "source": [
        "hackDF.cache()"
      ]
    },
    {
      "cell_type": "code",
      "execution_count": null,
      "metadata": {
        "colab": {
          "base_uri": "https://localhost:8080/"
        },
        "id": "iqUMo3YU6rlG",
        "outputId": "1192a344-c05c-46a1-fac8-f0fcfaa1fae7"
      },
      "outputs": [
        {
          "output_type": "execute_result",
          "data": {
            "text/plain": [
              "[Row(Session_Connection_Time=8.0, Bytes_Transferred=391.09, Kali_Trace_Used='1', Servers_Corrupted=2.96, Pages_Corrupted=7.0, Location='Slovenia', WPM_Typing_Speed=72.37),\n",
              " Row(Session_Connection_Time=20.0, Bytes_Transferred=720.99, Kali_Trace_Used='0', Servers_Corrupted=3.04, Pages_Corrupted=9.0, Location='British Virgin Islands', WPM_Typing_Speed=69.08)]"
            ]
          },
          "metadata": {},
          "execution_count": 56
        }
      ],
      "source": [
        "hackDF.take(2)"
      ]
    },
    {
      "cell_type": "code",
      "execution_count": null,
      "metadata": {
        "colab": {
          "base_uri": "https://localhost:8080/"
        },
        "id": "1G-ryS2F6wkW",
        "outputId": "85cd9821-87b0-428e-bbd0-80c92276791b"
      },
      "outputs": [
        {
          "output_type": "execute_result",
          "data": {
            "text/plain": [
              "7"
            ]
          },
          "metadata": {},
          "execution_count": 57
        }
      ],
      "source": [
        "len(hackDF.columns)"
      ]
    },
    {
      "cell_type": "code",
      "execution_count": null,
      "metadata": {
        "colab": {
          "base_uri": "https://localhost:8080/"
        },
        "id": "T4RVx-ti618P",
        "outputId": "853d7baa-88e7-4701-cbe9-ca08e5b1dd2b"
      },
      "outputs": [
        {
          "output_type": "execute_result",
          "data": {
            "text/plain": [
              "334"
            ]
          },
          "metadata": {},
          "execution_count": 58
        }
      ],
      "source": [
        "hackDF.count()"
      ]
    },
    {
      "cell_type": "code",
      "execution_count": null,
      "metadata": {
        "colab": {
          "base_uri": "https://localhost:8080/"
        },
        "id": "tgFgaiJt65Jx",
        "outputId": "bac94c59-ce6e-44bd-d951-563930cc0e86"
      },
      "outputs": [
        {
          "output_type": "stream",
          "name": "stdout",
          "text": [
            "+-------+-----------------------+------------------+------------------+-----------------+------------------+-----------+------------------+\n",
            "|summary|Session_Connection_Time| Bytes_Transferred|   Kali_Trace_Used|Servers_Corrupted|   Pages_Corrupted|   Location|  WPM_Typing_Speed|\n",
            "+-------+-----------------------+------------------+------------------+-----------------+------------------+-----------+------------------+\n",
            "|  count|                    334|               334|               334|              334|               334|        334|               334|\n",
            "|   mean|     30.008982035928145| 607.2452694610777|0.5119760479041916|5.258502994011977|10.838323353293413|       null|57.342395209580864|\n",
            "| stddev|     14.088200614636158|286.33593163576757|0.5006065264451406| 2.30190693339697|  3.06352633036022|       null| 13.41106336843464|\n",
            "|    min|                    1.0|              10.0|                 0|              1.0|               6.0|Afghanistan|              40.0|\n",
            "|    max|                   60.0|            1330.5|                 1|             10.0|              15.0|   Zimbabwe|              75.0|\n",
            "+-------+-----------------------+------------------+------------------+-----------------+------------------+-----------+------------------+\n",
            "\n"
          ]
        }
      ],
      "source": [
        "hackDF.describe().show()"
      ]
    },
    {
      "cell_type": "code",
      "execution_count": null,
      "metadata": {
        "colab": {
          "base_uri": "https://localhost:8080/"
        },
        "id": "PyTJpzF9tXNN",
        "outputId": "16582371-ce83-4ea5-ae67-4dbc211e3671"
      },
      "outputs": [
        {
          "output_type": "stream",
          "name": "stdout",
          "text": [
            "Count of the  records in the datset before dropping null values  334\n",
            "Count of the records in the dataset after dropping null values 334\n"
          ]
        }
      ],
      "source": [
        "from pandas.io.formats.info import DataFrameInfo\n",
        "df = hackDF.na.drop(how = \"any\")\n",
        "print(\"Count of the  records in the datset before dropping null values \", hackDF.count())\n",
        "print(\"Count of the records in the dataset after dropping null values\", df.count())"
      ]
    },
    {
      "cell_type": "code",
      "source": [
        "!pip install -q pyspark\n",
        "!pip install -q handyspark"
      ],
      "metadata": {
        "colab": {
          "base_uri": "https://localhost:8080/"
        },
        "id": "6b8qxhsvZKTm",
        "outputId": "f3972d7f-258c-45e8-e0eb-4c8a897267f1"
      },
      "execution_count": null,
      "outputs": [
        {
          "output_type": "stream",
          "name": "stdout",
          "text": [
            "\u001b[K     |████████████████████████████████| 281.4 MB 43 kB/s \n",
            "\u001b[K     |████████████████████████████████| 199 kB 51.2 MB/s \n",
            "\u001b[?25h  Building wheel for pyspark (setup.py) ... \u001b[?25l\u001b[?25hdone\n"
          ]
        }
      ]
    },
    {
      "cell_type": "code",
      "source": [
        "from handyspark import *\n",
        "from handyspark.sql.pandas import HandyPandas"
      ],
      "metadata": {
        "id": "AoWfcjF2YcnE"
      },
      "execution_count": null,
      "outputs": []
    },
    {
      "cell_type": "code",
      "source": [
        "hdf = df.toHandy()\n",
        "hdf.show()"
      ],
      "metadata": {
        "colab": {
          "base_uri": "https://localhost:8080/"
        },
        "id": "I-tI3hfBZIcO",
        "outputId": "a64c2121-e1b9-40ad-b776-b72ad0b9a67f"
      },
      "execution_count": null,
      "outputs": [
        {
          "output_type": "stream",
          "name": "stdout",
          "text": [
            "+-----------------------+-----------------+---------------+-----------------+---------------+--------------------+----------------+\n",
            "|Session_Connection_Time|Bytes_Transferred|Kali_Trace_Used|Servers_Corrupted|Pages_Corrupted|            Location|WPM_Typing_Speed|\n",
            "+-----------------------+-----------------+---------------+-----------------+---------------+--------------------+----------------+\n",
            "|                    8.0|           391.09|              1|             2.96|            7.0|            Slovenia|           72.37|\n",
            "|                   20.0|           720.99|              0|             3.04|            9.0|British Virgin Is...|           69.08|\n",
            "|                   31.0|           356.32|              1|             3.71|            8.0|             Tokelau|           70.58|\n",
            "|                    2.0|           228.08|              1|             2.48|            8.0|             Bolivia|            70.8|\n",
            "|                   20.0|            408.5|              0|             3.57|            8.0|                Iraq|           71.28|\n",
            "|                    1.0|           390.69|              1|             2.79|            9.0|    Marshall Islands|           71.57|\n",
            "|                   18.0|           342.97|              1|              5.1|            7.0|             Georgia|           72.32|\n",
            "|                   22.0|           101.61|              1|             3.03|            7.0|         Timor-Leste|           72.03|\n",
            "|                   15.0|           275.53|              1|             3.53|            8.0|Palestinian Terri...|           70.17|\n",
            "|                   12.0|           424.83|              1|             2.53|            8.0|          Bangladesh|           69.99|\n",
            "|                   15.0|           249.09|              1|             3.39|            9.0|Northern Mariana ...|           70.77|\n",
            "|                   32.0|           242.48|              0|             4.24|            8.0|            Zimbabwe|           67.93|\n",
            "|                   23.0|           514.54|              0|             3.18|            8.0|         Isle of Man|           68.56|\n",
            "|                    9.0|           284.77|              0|             3.12|            9.0|Sao Tome and Prin...|           70.82|\n",
            "|                   27.0|           779.25|              1|             2.37|            8.0|              Greece|           72.73|\n",
            "|                   12.0|           307.31|              1|             3.22|            7.0|     Solomon Islands|           67.95|\n",
            "|                   21.0|           355.94|              1|              2.0|            7.0|       Guinea-Bissau|            72.0|\n",
            "|                   10.0|           372.65|              0|             3.33|            7.0|        Burkina Faso|           69.19|\n",
            "|                   20.0|           347.23|              1|             2.33|            7.0|            Mongolia|           70.41|\n",
            "|                   22.0|           456.57|              0|             1.52|            8.0|             Nigeria|           69.35|\n",
            "+-----------------------+-----------------+---------------+-----------------+---------------+--------------------+----------------+\n",
            "only showing top 20 rows\n",
            "\n"
          ]
        }
      ]
    },
    {
      "cell_type": "code",
      "source": [
        "hdf.cols[\"Session_Connection_Time\"].hist()"
      ],
      "metadata": {
        "colab": {
          "base_uri": "https://localhost:8080/",
          "height": 298
        },
        "id": "6g0M4zk0Zjkj",
        "outputId": "b69d74c0-6454-456c-97c2-c33adcce6a51"
      },
      "execution_count": null,
      "outputs": [
        {
          "output_type": "execute_result",
          "data": {
            "text/plain": [
              "<matplotlib.axes._subplots.AxesSubplot at 0x7ff20ef6cc10>"
            ]
          },
          "metadata": {},
          "execution_count": 62
        },
        {
          "output_type": "display_data",
          "data": {
            "text/plain": [
              "<Figure size 432x288 with 1 Axes>"
            ],
            "image/png": "[encoded data removed]"
          },
          "metadata": {
            "needs_background": "light"
          }
        }
      ]
    },
    {
      "cell_type": "code",
      "source": [
        "hdf.cols[\"Bytes_Transferred\"].hist()"
      ],
      "metadata": {
        "colab": {
          "base_uri": "https://localhost:8080/",
          "height": 298
        },
        "id": "PFnI2o81Zt8M",
        "outputId": "554671f5-c0ba-462b-fc3c-5525a3c4d1ac"
      },
      "execution_count": null,
      "outputs": [
        {
          "output_type": "execute_result",
          "data": {
            "text/plain": [
              "<matplotlib.axes._subplots.AxesSubplot at 0x7ff20e685610>"
            ]
          },
          "metadata": {},
          "execution_count": 63
        },
        {
          "output_type": "display_data",
          "data": {
            "text/plain": [
              "<Figure size 432x288 with 1 Axes>"
            ],
            "image/png": "[encoded data removed]"
          },
          "metadata": {
            "needs_background": "light"
          }
        }
      ]
    },
    {
      "cell_type": "code",
      "source": [
        "hdf.cols[\"Kali_Trace_Used\"].hist()"
      ],
      "metadata": {
        "colab": {
          "base_uri": "https://localhost:8080/",
          "height": 313
        },
        "id": "QXtBO9V5Zwmc",
        "outputId": "7186352e-cb62-47f0-a10a-b6bc4760b1df"
      },
      "execution_count": null,
      "outputs": [
        {
          "output_type": "execute_result",
          "data": {
            "text/plain": [
              "<matplotlib.axes._subplots.AxesSubplot at 0x7ff20e5c5290>"
            ]
          },
          "metadata": {},
          "execution_count": 64
        },
        {
          "output_type": "display_data",
          "data": {
            "text/plain": [
              "<Figure size 432x288 with 1 Axes>"
            ],
            "image/png": "[encoded data removed]"
          },
          "metadata": {
            "needs_background": "light"
          }
        }
      ]
    },
    {
      "cell_type": "code",
      "source": [
        "hdf.cols[\"Servers_Corrupted\"].hist()"
      ],
      "metadata": {
        "colab": {
          "base_uri": "https://localhost:8080/",
          "height": 298
        },
        "id": "zQfw4EiXaCN5",
        "outputId": "0b89b88e-aa49-42fd-e6ba-318710e9f896"
      },
      "execution_count": null,
      "outputs": [
        {
          "output_type": "execute_result",
          "data": {
            "text/plain": [
              "<matplotlib.axes._subplots.AxesSubplot at 0x7ff20e5bd310>"
            ]
          },
          "metadata": {},
          "execution_count": 65
        },
        {
          "output_type": "display_data",
          "data": {
            "text/plain": [
              "<Figure size 432x288 with 1 Axes>"
            ],
            "image/png": "[encoded data removed]"
          },
          "metadata": {
            "needs_background": "light"
          }
        }
      ]
    },
    {
      "cell_type": "markdown",
      "source": [
        "# servers corrupted have to be partitionied into two"
      ],
      "metadata": {
        "id": "8495owHMac-E"
      }
    },
    {
      "cell_type": "code",
      "source": [
        "\n",
        "from pyspark.sql.functions import when"
      ],
      "metadata": {
        "id": "1hi8FMrQtK2X"
      },
      "execution_count": null,
      "outputs": []
    },
    {
      "cell_type": "code",
      "source": [
        "hdf = hdf.withColumn(\"Servers_Corrupted\", when(hdf.Servers_Corrupted <= 5,\"1\")\n",
        "                                 .when(hdf.Servers_Corrupted >= 5,\"2\"))\n",
        ""
      ],
      "metadata": {
        "id": "BolVZzZEYQSi"
      },
      "execution_count": null,
      "outputs": []
    },
    {
      "cell_type": "code",
      "source": [
        "hdf.cols[\"Pages_Corrupted\"].hist()"
      ],
      "metadata": {
        "colab": {
          "base_uri": "https://localhost:8080/",
          "height": 298
        },
        "id": "M77NzYQUanqy",
        "outputId": "32e20caa-1fe9-476a-d21b-4b36f7ae432b"
      },
      "execution_count": null,
      "outputs": [
        {
          "output_type": "execute_result",
          "data": {
            "text/plain": [
              "<matplotlib.axes._subplots.AxesSubplot at 0x7ff20e843b90>"
            ]
          },
          "metadata": {},
          "execution_count": 49
        },
        {
          "output_type": "display_data",
          "data": {
            "text/plain": [
              "<Figure size 432x288 with 1 Axes>"
            ],
            "image/png": "[encoded data removed]"
          },
          "metadata": {
            "needs_background": "light"
          }
        }
      ]
    },
    {
      "cell_type": "markdown",
      "source": [
        "# pages corrupted have to be partitionied into three"
      ],
      "metadata": {
        "id": "gvOYx4qYa8NC"
      }
    },
    {
      "cell_type": "code",
      "source": [
        "hdf = hdf.withColumn(\"Pages_Corrupted\", when(hdf.Pages_Corrupted <= 10,\"1\")\n",
        "                                 .when(hdf.Pages_Corrupted >= 10,\"2\"))"
      ],
      "metadata": {
        "id": "0AebVltNr_WO"
      },
      "execution_count": null,
      "outputs": []
    },
    {
      "cell_type": "code",
      "source": [
        "hdf.cols[\"WPM_Typing_Speed\"].hist()"
      ],
      "metadata": {
        "colab": {
          "base_uri": "https://localhost:8080/",
          "height": 298
        },
        "id": "CBrlY7WWabkC",
        "outputId": "6136caf4-3156-492f-b902-e1b3ba7024c5"
      },
      "execution_count": null,
      "outputs": [
        {
          "output_type": "execute_result",
          "data": {
            "text/plain": [
              "<matplotlib.axes._subplots.AxesSubplot at 0x7ff20e9c48d0>"
            ]
          },
          "metadata": {},
          "execution_count": 50
        },
        {
          "output_type": "display_data",
          "data": {
            "text/plain": [
              "<Figure size 432x288 with 1 Axes>"
            ],
            "image/png": "[encoded data removed]"
          },
          "metadata": {
            "needs_background": "light"
          }
        }
      ]
    },
    {
      "cell_type": "markdown",
      "source": [
        "# WPM Typing Speed have to be partitionied into three"
      ],
      "metadata": {
        "id": "2TJkIfNdbSQw"
      }
    },
    {
      "cell_type": "code",
      "source": [
        "hdf = hdf.withColumn(\"WPM_Typing_Speed\", when(hdf.WPM_Typing_Speed <= 55,\"1\")\n",
        "                                 .when(hdf.WPM_Typing_Speed >= 55,\"2\"))"
      ],
      "metadata": {
        "id": "A91U1MCxsgY-"
      },
      "execution_count": null,
      "outputs": []
    },
    {
      "cell_type": "code",
      "source": [
        "hdf = hdf.drop(\"Location\")"
      ],
      "metadata": {
        "id": "VMIoT7INqvi8"
      },
      "execution_count": null,
      "outputs": []
    },
    {
      "cell_type": "code",
      "source": [
        "hdf.show(5)"
      ],
      "metadata": {
        "colab": {
          "base_uri": "https://localhost:8080/"
        },
        "id": "KlAcb9-5s2uL",
        "outputId": "c77e5707-f00e-45cd-b42d-7d020b116235"
      },
      "execution_count": null,
      "outputs": [
        {
          "output_type": "stream",
          "name": "stdout",
          "text": [
            "+-----------------------+-----------------+---------------+-----------------+---------------+----------------+\n",
            "|Session_Connection_Time|Bytes_Transferred|Kali_Trace_Used|Servers_Corrupted|Pages_Corrupted|WPM_Typing_Speed|\n",
            "+-----------------------+-----------------+---------------+-----------------+---------------+----------------+\n",
            "|                    8.0|           391.09|              1|                1|              1|               2|\n",
            "|                   20.0|           720.99|              0|                1|              1|               2|\n",
            "|                   31.0|           356.32|              1|                1|              1|               2|\n",
            "|                    2.0|           228.08|              1|                1|              1|               2|\n",
            "|                   20.0|            408.5|              0|                1|              1|               2|\n",
            "+-----------------------+-----------------+---------------+-----------------+---------------+----------------+\n",
            "only showing top 5 rows\n",
            "\n"
          ]
        }
      ]
    },
    {
      "cell_type": "code",
      "source": [
        "hdf.dtypes"
      ],
      "metadata": {
        "id": "xSLITqu3ZheK",
        "colab": {
          "base_uri": "https://localhost:8080/"
        },
        "outputId": "056d9ce1-ab16-4095-bcf8-d2cd32eabf77"
      },
      "execution_count": null,
      "outputs": [
        {
          "output_type": "execute_result",
          "data": {
            "text/plain": [
              "[('Session_Connection_Time', 'double'),\n",
              " ('Bytes_Transferred', 'double'),\n",
              " ('Kali_Trace_Used', 'string'),\n",
              " ('Servers_Corrupted', 'double'),\n",
              " ('Pages_Corrupted', 'double'),\n",
              " ('WPM_Typing_Speed', 'double')]"
            ]
          },
          "metadata": {},
          "execution_count": 73
        }
      ]
    },
    {
      "cell_type": "code",
      "source": [
        "hdf = hdf.withColumn(\"Servers_Corrupted\",hdf.Servers_Corrupted.cast(StringType()))\n",
        "hdf = hdf.withColumn(\"Pages_Corrupted\",hdf.Pages_Corrupted.cast(StringType()))\n",
        "hdf = hdf.withColumn(\"WPM_Typing_Speed\",hdf.WPM_Typing_Speed.cast(StringType()))"
      ],
      "metadata": {
        "id": "BVCfC-qdtmts"
      },
      "execution_count": null,
      "outputs": []
    },
    {
      "cell_type": "code",
      "execution_count": null,
      "metadata": {
        "id": "KVmanDtIf7EN"
      },
      "outputs": [],
      "source": [
        "(trainingData,testingData) = hdf.randomSplit([0.75,0.25],seed = 123)"
      ]
    },
    {
      "cell_type": "code",
      "execution_count": null,
      "metadata": {
        "colab": {
          "base_uri": "https://localhost:8080/"
        },
        "id": "lwQc0n0If_Eg",
        "outputId": "dece6f30-2be5-404f-f800-dbae01065358"
      },
      "outputs": [
        {
          "output_type": "execute_result",
          "data": {
            "text/plain": [
              "254"
            ]
          },
          "metadata": {},
          "execution_count": 90
        }
      ],
      "source": [
        "trainingData.count()"
      ]
    },
    {
      "cell_type": "code",
      "execution_count": null,
      "metadata": {
        "colab": {
          "base_uri": "https://localhost:8080/"
        },
        "id": "HlvTaeLOgEod",
        "outputId": "af149027-abc1-4e12-d06c-1c923ad1074b"
      },
      "outputs": [
        {
          "output_type": "execute_result",
          "data": {
            "text/plain": [
              "80"
            ]
          },
          "metadata": {},
          "execution_count": 91
        }
      ],
      "source": [
        "testingData.count()"
      ]
    },
    {
      "cell_type": "code",
      "execution_count": null,
      "metadata": {
        "colab": {
          "base_uri": "https://localhost:8080/"
        },
        "id": "qViAHqPWgZOY",
        "outputId": "34b80263-653a-471d-825b-952cb8e76760"
      },
      "outputs": [
        {
          "output_type": "execute_result",
          "data": {
            "text/plain": [
              "[('Session_Connection_Time', 'double'),\n",
              " ('Bytes_Transferred', 'double'),\n",
              " ('Kali_Trace_Used', 'string'),\n",
              " ('Servers_Corrupted', 'string'),\n",
              " ('Pages_Corrupted', 'string'),\n",
              " ('WPM_Typing_Speed', 'string')]"
            ]
          },
          "metadata": {},
          "execution_count": 92
        }
      ],
      "source": [
        "trainingData.dtypes"
      ]
    },
    {
      "cell_type": "code",
      "execution_count": null,
      "metadata": {
        "id": "pD5fo_dOgPQV"
      },
      "outputs": [],
      "source": [
        "cat_Var_names = ['Kali_Trace_Used',\"Servers_Corrupted\",\"Pages_Corrupted\",'WPM_Typing_Speed']\n",
        "num_var_names = [\"Session_Connection_Time\",\"Bytes_Transferred\"]"
      ]
    },
    {
      "cell_type": "code",
      "execution_count": null,
      "metadata": {
        "id": "1HDX0Buag28Z"
      },
      "outputs": [],
      "source": [
        "from pyspark.ml.feature import VectorAssembler\n",
        "vector_assembler_numVars = VectorAssembler(inputCols=num_var_names , outputCol=\"num_features_all\")"
      ]
    },
    {
      "cell_type": "code",
      "execution_count": null,
      "metadata": {
        "id": "g0WAKWGZg6Nz"
      },
      "outputs": [],
      "source": [
        "from pyspark.ml.feature import MinMaxScaler\n",
        "min_max_Scalar_NumVars = MinMaxScaler(inputCol=\"num_features_all\",outputCol=\"scaled_num_features\")"
      ]
    },
    {
      "cell_type": "code",
      "execution_count": null,
      "metadata": {
        "id": "GEs4EUqxhCsP"
      },
      "outputs": [],
      "source": [
        "from pyspark.ml.feature import StringIndexer, OneHotEncoder\n",
        "indexers_Cat = [StringIndexer(inputCol=cat_var_name,outputCol=\"{0}_index\".format(cat_var_name),handleInvalid = \"keep\")\n",
        "                for cat_var_name in cat_Var_names]\n",
        "\n",
        "encoders_Cat = [OneHotEncoder(inputCol=indexer.getOutputCol(),outputCol=\"{0}_vec\".format(indexer.getInputCol())) for indexer in indexers_Cat]\n",
        "\n",
        "assembler_Cat = VectorAssembler(inputCols=[encoder.getOutputCol() for encoder in encoders_Cat],outputCol=\"cat_features\")"
      ]
    },
    {
      "cell_type": "code",
      "execution_count": null,
      "metadata": {
        "id": "W1Exka9WhHDB"
      },
      "outputs": [],
      "source": [
        "assembler = VectorAssembler(inputCols=[\"scaled_num_features\",\"cat_features\"],outputCol=\"features\")"
      ]
    },
    {
      "cell_type": "code",
      "execution_count": null,
      "metadata": {
        "id": "TOfRMtfHhK3d"
      },
      "outputs": [],
      "source": [
        "preprocessingStages = [vector_assembler_numVars] + [min_max_Scalar_NumVars] + indexers_Cat + encoders_Cat + [assembler_Cat] + [assembler]"
      ]
    },
    {
      "cell_type": "code",
      "execution_count": null,
      "metadata": {
        "colab": {
          "base_uri": "https://localhost:8080/"
        },
        "id": "587ooN1shNEs",
        "outputId": "0eae2a4c-19fb-4b49-c05e-e3d665498e56"
      },
      "outputs": [
        {
          "output_type": "execute_result",
          "data": {
            "text/plain": [
              "[VectorAssembler_df958e51cdc0,\n",
              " MinMaxScaler_35f2185b02c7,\n",
              " StringIndexer_86d61cb5aea9,\n",
              " StringIndexer_e66bdcf3244e,\n",
              " StringIndexer_91431bfb9d59,\n",
              " StringIndexer_c01921000c3f,\n",
              " OneHotEncoder_ae5f122132d8,\n",
              " OneHotEncoder_39d43d6cb339,\n",
              " OneHotEncoder_1f2f24a7023a,\n",
              " OneHotEncoder_ed30c5f3d605,\n",
              " VectorAssembler_bc98dc77af84,\n",
              " VectorAssembler_f980b40ef718]"
            ]
          },
          "metadata": {},
          "execution_count": 109
        }
      ],
      "source": [
        "preprocessingStages"
      ]
    },
    {
      "cell_type": "code",
      "execution_count": null,
      "metadata": {
        "id": "Bt7t3tOshPb8"
      },
      "outputs": [],
      "source": [
        "from pyspark.ml.clustering import KMeans\n",
        "from pyspark.ml.evaluation import ClusteringEvaluator"
      ]
    },
    {
      "cell_type": "markdown",
      "source": [
        "# kmeans model on 3 class"
      ],
      "metadata": {
        "id": "jdLmfaFYvQ29"
      }
    },
    {
      "cell_type": "code",
      "execution_count": null,
      "metadata": {
        "id": "_nM4QIIqhoBy"
      },
      "outputs": [],
      "source": [
        "kmeans_3 = KMeans()\\\n",
        "            .setK(3)\\\n",
        "            .setSeed(1) \\\n",
        "            .setFeaturesCol(\"features\")\\\n",
        "            .setPredictionCol(\"cluster\")"
      ]
    },
    {
      "cell_type": "code",
      "execution_count": null,
      "metadata": {
        "id": "nAVvCemxiNnv"
      },
      "outputs": [],
      "source": [
        "from pyspark.ml import Pipeline\n",
        "kmeans_pipeline_1 = Pipeline(stages=preprocessingStages+[kmeans_3])\n",
        "kmeans_pipeline_model_1= kmeans_pipeline_1.fit(trainingData)"
      ]
    },
    {
      "cell_type": "code",
      "execution_count": null,
      "metadata": {
        "id": "1IQlqi8TlCDe"
      },
      "outputs": [],
      "source": [
        "train_predictions_kmeans_1 = kmeans_pipeline_model_1.transform(trainingData)"
      ]
    },
    {
      "cell_type": "code",
      "execution_count": null,
      "metadata": {
        "id": "zbDcJ97vloy3"
      },
      "outputs": [],
      "source": [
        "test_predictions_kmeans_1 = kmeans_pipeline_model_1.transform(testingData)"
      ]
    },
    {
      "cell_type": "code",
      "execution_count": null,
      "metadata": {
        "colab": {
          "base_uri": "https://localhost:8080/"
        },
        "id": "30Q68OSQlzPK",
        "outputId": "88120e21-b167-4a7c-fc00-23ff9483fb34"
      },
      "outputs": [
        {
          "output_type": "stream",
          "name": "stdout",
          "text": [
            "+-----------------------+-----------------+---------------+-----------------+---------------+----------------+----------------+--------------------+---------------------+-----------------------+---------------------+----------------------+-------------------+---------------------+-------------------+--------------------+--------------------+--------------------+-------+\n",
            "|Session_Connection_Time|Bytes_Transferred|Kali_Trace_Used|Servers_Corrupted|Pages_Corrupted|WPM_Typing_Speed|num_features_all| scaled_num_features|Kali_Trace_Used_index|Servers_Corrupted_index|Pages_Corrupted_index|WPM_Typing_Speed_index|Kali_Trace_Used_vec|Servers_Corrupted_vec|Pages_Corrupted_vec|WPM_Typing_Speed_vec|        cat_features|            features|cluster|\n",
            "+-----------------------+-----------------+---------------+-----------------+---------------+----------------+----------------+--------------------+---------------------+-----------------------+---------------------+----------------------+-------------------+---------------------+-------------------+--------------------+--------------------+--------------------+-------+\n",
            "|                    1.0|           390.69|              1|                1|              1|               2|    [1.0,390.69]|[0.0,0.2882923135...|                  0.0|                    1.0|                  0.0|                   0.0|      (2,[0],[1.0])|        (2,[1],[1.0])|      (2,[0],[1.0])|       (2,[0],[1.0])|(8,[0,3,4,6],[1.0...|(10,[1,2,5,6,8],[...|      0|\n",
            "|                    2.0|           228.08|              1|                1|              1|               2|    [2.0,228.08]|[0.01694915254237...|                  0.0|                    1.0|                  0.0|                   0.0|      (2,[0],[1.0])|        (2,[1],[1.0])|      (2,[0],[1.0])|       (2,[0],[1.0])|(8,[0,3,4,6],[1.0...|[0.01694915254237...|      0|\n",
            "|                    4.0|           295.79|              0|                1|              1|               2|    [4.0,295.79]|[0.05084745762711...|                  1.0|                    1.0|                  0.0|                   0.0|      (2,[1],[1.0])|        (2,[1],[1.0])|      (2,[0],[1.0])|       (2,[0],[1.0])|(8,[1,3,4,6],[1.0...|[0.05084745762711...|      0|\n",
            "|                    4.0|           458.36|              0|                1|              1|               2|    [4.0,458.36]|[0.05084745762711...|                  1.0|                    1.0|                  0.0|                   0.0|      (2,[1],[1.0])|        (2,[1],[1.0])|      (2,[0],[1.0])|       (2,[0],[1.0])|(8,[1,3,4,6],[1.0...|[0.05084745762711...|      0|\n",
            "|                    4.0|           459.64|              0|                1|              1|               2|    [4.0,459.64]|[0.05084745762711...|                  1.0|                    1.0|                  0.0|                   0.0|      (2,[1],[1.0])|        (2,[1],[1.0])|      (2,[0],[1.0])|       (2,[0],[1.0])|(8,[1,3,4,6],[1.0...|[0.05084745762711...|      0|\n",
            "|                    6.0|           370.45|              1|                1|              1|               2|    [6.0,370.45]|[0.08474576271186...|                  0.0|                    1.0|                  0.0|                   0.0|      (2,[0],[1.0])|        (2,[1],[1.0])|      (2,[0],[1.0])|       (2,[0],[1.0])|(8,[0,3,4,6],[1.0...|[0.08474576271186...|      0|\n",
            "|                    6.0|           567.16|              1|                2|              1|               2|    [6.0,567.16]|[0.08474576271186...|                  0.0|                    0.0|                  0.0|                   0.0|      (2,[0],[1.0])|        (2,[0],[1.0])|      (2,[0],[1.0])|       (2,[0],[1.0])|(8,[0,2,4,6],[1.0...|[0.08474576271186...|      0|\n",
            "|                    7.0|             10.0|              1|                1|              1|               2|      [7.0,10.0]|[0.10169491525423...|                  0.0|                    1.0|                  0.0|                   0.0|      (2,[0],[1.0])|        (2,[1],[1.0])|      (2,[0],[1.0])|       (2,[0],[1.0])|(8,[0,3,4,6],[1.0...|(10,[0,2,5,6,8],[...|      0|\n",
            "|                    7.0|           178.56|              0|                1|              1|               2|    [7.0,178.56]|[0.10169491525423...|                  1.0|                    1.0|                  0.0|                   0.0|      (2,[1],[1.0])|        (2,[1],[1.0])|      (2,[0],[1.0])|       (2,[0],[1.0])|(8,[1,3,4,6],[1.0...|[0.10169491525423...|      0|\n",
            "|                    8.0|            64.83|              0|                1|              1|               2|     [8.0,64.83]|[0.11864406779661...|                  1.0|                    1.0|                  0.0|                   0.0|      (2,[1],[1.0])|        (2,[1],[1.0])|      (2,[0],[1.0])|       (2,[0],[1.0])|(8,[1,3,4,6],[1.0...|[0.11864406779661...|      0|\n",
            "|                    8.0|           372.05|              0|                1|              1|               2|    [8.0,372.05]|[0.11864406779661...|                  1.0|                    1.0|                  0.0|                   0.0|      (2,[1],[1.0])|        (2,[1],[1.0])|      (2,[0],[1.0])|       (2,[0],[1.0])|(8,[1,3,4,6],[1.0...|[0.11864406779661...|      0|\n",
            "|                    8.0|           391.09|              1|                1|              1|               2|    [8.0,391.09]|[0.11864406779661...|                  0.0|                    1.0|                  0.0|                   0.0|      (2,[0],[1.0])|        (2,[1],[1.0])|      (2,[0],[1.0])|       (2,[0],[1.0])|(8,[0,3,4,6],[1.0...|[0.11864406779661...|      0|\n",
            "|                    8.0|           752.49|              0|                1|              1|               2|    [8.0,752.49]|[0.11864406779661...|                  1.0|                    1.0|                  0.0|                   0.0|      (2,[1],[1.0])|        (2,[1],[1.0])|      (2,[0],[1.0])|       (2,[0],[1.0])|(8,[1,3,4,6],[1.0...|[0.11864406779661...|      0|\n",
            "|                    8.0|           857.01|              0|                1|              1|               2|    [8.0,857.01]|[0.11864406779661...|                  1.0|                    1.0|                  0.0|                   0.0|      (2,[1],[1.0])|        (2,[1],[1.0])|      (2,[0],[1.0])|       (2,[0],[1.0])|(8,[1,3,4,6],[1.0...|[0.11864406779661...|      0|\n",
            "|                    9.0|           284.77|              0|                1|              1|               2|    [9.0,284.77]|[0.13559322033898...|                  1.0|                    1.0|                  0.0|                   0.0|      (2,[1],[1.0])|        (2,[1],[1.0])|      (2,[0],[1.0])|       (2,[0],[1.0])|(8,[1,3,4,6],[1.0...|[0.13559322033898...|      0|\n",
            "|                    9.0|           430.16|              0|                1|              1|               2|    [9.0,430.16]|[0.13559322033898...|                  1.0|                    1.0|                  0.0|                   0.0|      (2,[1],[1.0])|        (2,[1],[1.0])|      (2,[0],[1.0])|       (2,[0],[1.0])|(8,[1,3,4,6],[1.0...|[0.13559322033898...|      0|\n",
            "|                    9.0|           549.52|              1|                2|              1|               2|    [9.0,549.52]|[0.13559322033898...|                  0.0|                    0.0|                  0.0|                   0.0|      (2,[0],[1.0])|        (2,[0],[1.0])|      (2,[0],[1.0])|       (2,[0],[1.0])|(8,[0,2,4,6],[1.0...|[0.13559322033898...|      0|\n",
            "|                   10.0|           256.61|              0|                1|              1|               2|   [10.0,256.61]|[0.15254237288135...|                  1.0|                    1.0|                  0.0|                   0.0|      (2,[1],[1.0])|        (2,[1],[1.0])|      (2,[0],[1.0])|       (2,[0],[1.0])|(8,[1,3,4,6],[1.0...|[0.15254237288135...|      0|\n",
            "|                   10.0|           372.65|              0|                1|              1|               2|   [10.0,372.65]|[0.15254237288135...|                  1.0|                    1.0|                  0.0|                   0.0|      (2,[1],[1.0])|        (2,[1],[1.0])|      (2,[0],[1.0])|       (2,[0],[1.0])|(8,[1,3,4,6],[1.0...|[0.15254237288135...|      0|\n",
            "|                   10.0|           401.85|              0|                1|              1|               2|   [10.0,401.85]|[0.15254237288135...|                  1.0|                    1.0|                  0.0|                   0.0|      (2,[1],[1.0])|        (2,[1],[1.0])|      (2,[0],[1.0])|       (2,[0],[1.0])|(8,[1,3,4,6],[1.0...|[0.15254237288135...|      0|\n",
            "+-----------------------+-----------------+---------------+-----------------+---------------+----------------+----------------+--------------------+---------------------+-----------------------+---------------------+----------------------+-------------------+---------------------+-------------------+--------------------+--------------------+--------------------+-------+\n",
            "only showing top 20 rows\n",
            "\n"
          ]
        }
      ],
      "source": [
        "train_predictions_kmeans_1.show()"
      ]
    },
    {
      "cell_type": "code",
      "execution_count": null,
      "metadata": {
        "colab": {
          "base_uri": "https://localhost:8080/"
        },
        "id": "XQHj09iumHfU",
        "outputId": "6795f06e-056a-42ce-831b-1721350c794f"
      },
      "outputs": [
        {
          "output_type": "execute_result",
          "data": {
            "text/plain": [
              "[Row(cluster=1), Row(cluster=2), Row(cluster=0)]"
            ]
          },
          "metadata": {},
          "execution_count": 128
        }
      ],
      "source": [
        "train_predictions_kmeans_1.select(\"cluster\").distinct().collect()"
      ]
    },
    {
      "cell_type": "code",
      "source": [
        "import pyspark.sql.functions as f\n",
        "from pyspark.sql.window import Window"
      ],
      "metadata": {
        "id": "r6njxm6c50FF"
      },
      "execution_count": null,
      "outputs": []
    },
    {
      "cell_type": "code",
      "execution_count": null,
      "metadata": {
        "colab": {
          "base_uri": "https://localhost:8080/"
        },
        "id": "O60pwR8UnEzg",
        "outputId": "1ea85805-449a-4467-a3cd-ae927f2b79d3"
      },
      "outputs": [
        {
          "output_type": "stream",
          "name": "stdout",
          "text": [
            "+-------+-----+\n",
            "|cluster|count|\n",
            "+-------+-----+\n",
            "|      1|   57|\n",
            "|      2|   65|\n",
            "|      0|  132|\n",
            "+-------+-----+\n",
            "\n"
          ]
        }
      ],
      "source": [
        "train_predictions_kmeans_1.groupBy('cluster').count().show()"
      ]
    },
    {
      "cell_type": "code",
      "execution_count": null,
      "metadata": {
        "colab": {
          "base_uri": "https://localhost:8080/"
        },
        "id": "LraOgSE8oNAz",
        "outputId": "ffb13e2f-f2f5-4da6-d775-c0de58893e9e"
      },
      "outputs": [
        {
          "output_type": "stream",
          "name": "stdout",
          "text": [
            "+-------+-----+\n",
            "|cluster|count|\n",
            "+-------+-----+\n",
            "|      1|   22|\n",
            "|      2|   23|\n",
            "|      0|   35|\n",
            "+-------+-----+\n",
            "\n"
          ]
        }
      ],
      "source": [
        "test_predictions_kmeans_1.groupBy('cluster').count().show()"
      ]
    },
    {
      "cell_type": "code",
      "execution_count": null,
      "metadata": {
        "colab": {
          "base_uri": "https://localhost:8080/"
        },
        "id": "DXF15mVVoSVO",
        "outputId": "99c044d2-20a2-4355-e40a-1faa3087a6a0"
      },
      "outputs": [
        {
          "output_type": "execute_result",
          "data": {
            "text/plain": [
              "ClusteringEvaluator_6d866077108d"
            ]
          },
          "metadata": {},
          "execution_count": 131
        }
      ],
      "source": [
        "evaluator = ClusteringEvaluator()\n",
        "evaluator.setPredictionCol(\"cluster\")"
      ]
    },
    {
      "cell_type": "code",
      "execution_count": null,
      "metadata": {
        "colab": {
          "base_uri": "https://localhost:8080/"
        },
        "id": "v9xLivWno7Da",
        "outputId": "6d58f9bc-f0c4-4e48-d7de-e11deaabeeda"
      },
      "outputs": [
        {
          "output_type": "execute_result",
          "data": {
            "text/plain": [
              "0.8797469582568016"
            ]
          },
          "metadata": {},
          "execution_count": 132
        }
      ],
      "source": [
        "evaluator.evaluate(train_predictions_kmeans_1)"
      ]
    },
    {
      "cell_type": "code",
      "execution_count": null,
      "metadata": {
        "colab": {
          "base_uri": "https://localhost:8080/"
        },
        "id": "T3wnKkTjpBzS",
        "outputId": "0bc20d0e-66be-4359-cea1-c31f26034f5d"
      },
      "outputs": [
        {
          "output_type": "execute_result",
          "data": {
            "text/plain": [
              "0.8981850390085414"
            ]
          },
          "metadata": {},
          "execution_count": 133
        }
      ],
      "source": [
        "evaluator.evaluate(test_predictions_kmeans_1)"
      ]
    },
    {
      "cell_type": "code",
      "execution_count": null,
      "metadata": {
        "id": "spn9FVA_ptNo"
      },
      "outputs": [],
      "source": []
    },
    {
      "cell_type": "markdown",
      "source": [
        "# kmeans on 2 class model"
      ],
      "metadata": {
        "id": "4jpHTaV3vW7D"
      }
    },
    {
      "cell_type": "code",
      "source": [
        "kmeans_2 = KMeans()\\\n",
        "            .setK(2)\\\n",
        "            .setSeed(1) \\\n",
        "            .setFeaturesCol(\"features\")\\\n",
        "            .setPredictionCol(\"cluster\")"
      ],
      "metadata": {
        "id": "jLDxU1pIvczm"
      },
      "execution_count": null,
      "outputs": []
    },
    {
      "cell_type": "code",
      "source": [
        "from pyspark.ml import Pipeline\n",
        "kmeans_pipeline_2 = Pipeline(stages=preprocessingStages+[kmeans_2])\n",
        "kmeans_pipeline_model_2= kmeans_pipeline_2.fit(trainingData)"
      ],
      "metadata": {
        "id": "9q0bJR5pvhaK"
      },
      "execution_count": null,
      "outputs": []
    },
    {
      "cell_type": "code",
      "source": [
        "train_predictions_kmeans_2 = kmeans_pipeline_model_2.transform(trainingData)\n",
        "test_predictions_kmeans_2 = kmeans_pipeline_model_2.transform(testingData)"
      ],
      "metadata": {
        "id": "FRZhAck5vmpc"
      },
      "execution_count": null,
      "outputs": []
    },
    {
      "cell_type": "code",
      "source": [
        "train_predictions_kmeans_2.select(\"cluster\").distinct().collect()"
      ],
      "metadata": {
        "colab": {
          "base_uri": "https://localhost:8080/"
        },
        "id": "1zBskK93vxNv",
        "outputId": "d536abd1-99fd-4dc9-edfc-7aff8a2efa76"
      },
      "execution_count": null,
      "outputs": [
        {
          "output_type": "execute_result",
          "data": {
            "text/plain": [
              "[Row(cluster=1), Row(cluster=0)]"
            ]
          },
          "metadata": {},
          "execution_count": 143
        }
      ]
    },
    {
      "cell_type": "code",
      "source": [
        "test_predictions_kmeans_2.select(\"cluster\").distinct().collect()"
      ],
      "metadata": {
        "colab": {
          "base_uri": "https://localhost:8080/"
        },
        "id": "BnnyFogmwEd4",
        "outputId": "aa7bbfa4-0d67-4843-e0f7-bc3cc1d38eec"
      },
      "execution_count": null,
      "outputs": [
        {
          "output_type": "execute_result",
          "data": {
            "text/plain": [
              "[Row(cluster=1), Row(cluster=0)]"
            ]
          },
          "metadata": {},
          "execution_count": 144
        }
      ]
    },
    {
      "cell_type": "code",
      "source": [],
      "metadata": {
        "id": "dYIYudqA5wsw"
      },
      "execution_count": null,
      "outputs": []
    },
    {
      "cell_type": "code",
      "source": [
        "\n",
        "a= train_predictions_kmeans_2.groupBy('cluster').count()\n",
        "\n",
        "a = a.withColumn('percent', (f.col('count')*100)/f.sum('count').over(Window.partitionBy()))\n",
        "\n",
        "a= a.orderBy('percent', ascending=False)\n",
        "\n",
        "a.select(\"cluster\",\"count\",round(\"percent\",2)).show()"
      ],
      "metadata": {
        "colab": {
          "base_uri": "https://localhost:8080/"
        },
        "id": "cJlK05rvwJls",
        "outputId": "9cf36aa6-4323-4c7e-c992-f1dbf6ebcaf8"
      },
      "execution_count": null,
      "outputs": [
        {
          "output_type": "stream",
          "name": "stdout",
          "text": [
            "+-------+-----+-----------------+\n",
            "|cluster|count|round(percent, 2)|\n",
            "+-------+-----+-----------------+\n",
            "|      0|  132|            51.97|\n",
            "|      1|  122|            48.03|\n",
            "+-------+-----+-----------------+\n",
            "\n"
          ]
        }
      ]
    },
    {
      "cell_type": "code",
      "source": [
        "\n",
        "\n",
        "a= test_predictions_kmeans_2.groupBy('cluster').count()\n",
        "\n",
        "a = a.withColumn('percent', (f.col('count')*100)/f.sum('count').over(Window.partitionBy()))\n",
        "\n",
        "a= a.orderBy('percent', ascending=False)\n",
        "\n",
        "a.select(\"cluster\",\"count\",round(\"percent\",2)).show()"
      ],
      "metadata": {
        "colab": {
          "base_uri": "https://localhost:8080/"
        },
        "id": "lKUvuqqdwN-h",
        "outputId": "6057b6c4-b840-4d8c-f04e-4f67c1920440"
      },
      "execution_count": null,
      "outputs": [
        {
          "output_type": "stream",
          "name": "stdout",
          "text": [
            "+-------+-----+-----------------+\n",
            "|cluster|count|round(percent, 2)|\n",
            "+-------+-----+-----------------+\n",
            "|      1|   45|            56.25|\n",
            "|      0|   35|            43.75|\n",
            "+-------+-----+-----------------+\n",
            "\n"
          ]
        }
      ]
    },
    {
      "cell_type": "code",
      "source": [
        "evaluator = ClusteringEvaluator()\n",
        "evaluator.setPredictionCol(\"cluster\")"
      ],
      "metadata": {
        "colab": {
          "base_uri": "https://localhost:8080/"
        },
        "id": "Cx2v8D3-wYqv",
        "outputId": "ea47f631-8b7c-4130-cb89-b1d9fcbb6d5f"
      },
      "execution_count": null,
      "outputs": [
        {
          "output_type": "execute_result",
          "data": {
            "text/plain": [
              "ClusteringEvaluator_266d82e4fd71"
            ]
          },
          "metadata": {},
          "execution_count": 147
        }
      ]
    },
    {
      "cell_type": "code",
      "source": [
        "evaluator.evaluate(train_predictions_kmeans_2)"
      ],
      "metadata": {
        "colab": {
          "base_uri": "https://localhost:8080/"
        },
        "id": "pvY2cG5SwhXV",
        "outputId": "4877a1e3-8d44-4f9b-c6ae-c7d08769bfb5"
      },
      "execution_count": null,
      "outputs": [
        {
          "output_type": "execute_result",
          "data": {
            "text/plain": [
              "0.8379686807238484"
            ]
          },
          "metadata": {},
          "execution_count": 148
        }
      ]
    },
    {
      "cell_type": "code",
      "source": [
        "evaluator.evaluate(test_predictions_kmeans_2)"
      ],
      "metadata": {
        "colab": {
          "base_uri": "https://localhost:8080/"
        },
        "id": "ZLaRChKDwmfw",
        "outputId": "19f24098-2552-4831-d276-11b65d60ab71"
      },
      "execution_count": null,
      "outputs": [
        {
          "output_type": "execute_result",
          "data": {
            "text/plain": [
              "0.8437790424105861"
            ]
          },
          "metadata": {},
          "execution_count": 149
        }
      ]
    },
    {
      "cell_type": "code",
      "source": [],
      "metadata": {
        "id": "9qyOfwxhwr1m"
      },
      "execution_count": null,
      "outputs": []
    },
    {
      "cell_type": "markdown",
      "source": [
        "#Silhouette Coefficient:\n",
        "\n",
        "Silhouette Coefficient or silhouette score is a metric used to calculate the goodness of a clustering technique. Its value ranges from -1 to 1.\n",
        "\n",
        "1: Means clusters are well apart from each other and clearly distinguished.\n",
        "\n",
        "0: Means clusters are indifferent, or we can say that the distance between    clusters is not significant.\n",
        "\n",
        "-1: Means clusters are assigned in the wrong way."
      ],
      "metadata": {
        "id": "xfoDzA_TwudR"
      }
    },
    {
      "cell_type": "markdown",
      "source": [
        "# If the no of hackers are two then percentage of hacker1 and hacker2 is almost equal and around 50"
      ],
      "metadata": {
        "id": "pD5JdWCwxHI3"
      }
    },
    {
      "cell_type": "markdown",
      "source": [
        "# so that we finally conclude  there are only 2 hackers that attacked Technology firm\n",
        "# since Silhouette Coefficient is almost around 0.9 so we can say\n",
        "#  Means clusters are well apart from each other and clearly distinguished."
      ],
      "metadata": {
        "id": "sjgDwf6x3YV8"
      }
    },
    {
      "cell_type": "code",
      "source": [],
      "metadata": {
        "id": "tLRuUO-Z3WWx"
      },
      "execution_count": null,
      "outputs": []
    }
  ],
  "metadata": {
    "colab": {
      "provenance": [],
      "collapsed_sections": [
        "8495owHMac-E",
        "gvOYx4qYa8NC",
        "xfoDzA_TwudR"
      ]
    },
    "kernelspec": {
      "display_name": "Python 3",
      "name": "python3"
    },
    "language_info": {
      "name": "python"
    }
  },
  "nbformat": 4,
  "nbformat_minor": 0
}